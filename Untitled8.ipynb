{
  "nbformat": 4,
  "nbformat_minor": 0,
  "metadata": {
    "colab": {
      "name": "Untitled8.ipynb",
      "provenance": [],
      "collapsed_sections": []
    },
    "kernelspec": {
      "name": "python3",
      "display_name": "Python 3"
    },
    "language_info": {
      "name": "python"
    }
  },
  "cells": [
    {
      "cell_type": "markdown",
      "source": [
        ""
      ],
      "metadata": {
        "id": "6jkFvl9R84oB"
      }
    },
    {
      "cell_type": "markdown",
      "source": [
        "# 6. A* algorithm with example [https://stackabuse.com/basic-ai-concepts-a-search-algorithm/](https://stackabuse.com/basic-ai-concepts-a-search-algorithm/)\n"
      ],
      "metadata": {
        "id": "LwdAHGPk-fFq"
      }
    },
    {
      "cell_type": "code",
      "source": [
        "from collections import deque\n",
        "\n",
        "class Graph:\n",
        "    # example of adjacency list (or rather map)\n",
        "    # adjacency_list = {\n",
        "    # 'A': [('B', 1), ('C', 3), ('D', 7)],\n",
        "    # 'B': [('D', 5)],\n",
        "    # 'C': [('D', 12)]\n",
        "    # }\n",
        "\n",
        "    def __init__(self, adjacency_list):\n",
        "        self.adjacency_list = adjacency_list\n",
        "\n",
        "    def get_neighbors(self, v):\n",
        "        return self.adjacency_list[v]\n",
        "\n",
        "    # heuristic function with equal values for all nodes\n",
        "    def h(self, n):\n",
        "        H = {\n",
        "            'A': 1,\n",
        "            'B': 1,\n",
        "            'C': 1,\n",
        "            'D': 1\n",
        "        }\n",
        "\n",
        "        return H[n]\n",
        "\n",
        "    def a_star_algorithm(self, start_node, stop_node):\n",
        "        # open_list is a list of nodes which have been visited, but who's neighbors\n",
        "        # haven't all been inspected, starts off with the start node\n",
        "        # closed_list is a list of nodes which have been visited\n",
        "        # and who's neighbors have been inspected\n",
        "        open_list = set([start_node])\n",
        "        closed_list = set([])\n",
        "\n",
        "        # g contains current distances from start_node to all other nodes\n",
        "        # the default value (if it's not found in the map) is +infinity\n",
        "        g = {}\n",
        "\n",
        "\n",
        "        g[start_node] = 0\n",
        "\n",
        "        # parents contains an adjacency map of all nodes\n",
        "        parents = {}\n",
        "        parents[start_node] = start_node\n",
        "\n",
        "        while len(open_list) > 0:\n",
        "            n = None\n",
        "\n",
        "            # find a node with the lowest value of f() - evaluation function\n",
        "            for v in open_list:\n",
        "                if n == None or g[v] + self.h(v) < g[n] + self.h(n):\n",
        "                    n = v;\n",
        "\n",
        "            if n == None:\n",
        "                print('Path does not exist!')\n",
        "                return None\n",
        "\n",
        "            # if the current node is the stop_node\n",
        "            # then we begin reconstructin the path from it to the start_node\n",
        "            if n == stop_node:\n",
        "                reconst_path = []\n",
        "\n",
        "                while parents[n] != n:\n",
        "                    reconst_path.append(n)\n",
        "                    n = parents[n]\n",
        "\n",
        "                reconst_path.append(start_node)\n",
        "\n",
        "                reconst_path.reverse()\n",
        "\n",
        "                print('Path found: {}'.format(reconst_path))\n",
        "                return reconst_path\n",
        "\n",
        "            # for all neighbors of the current node do\n",
        "            for (m, weight) in self.get_neighbors(n):\n",
        "                # if the current node isn't in both open_list and closed_list\n",
        "                # add it to open_list and note n as it's parent\n",
        "                if m not in open_list and m not in closed_list:\n",
        "                    open_list.add(m)\n",
        "                    parents[m] = n\n",
        "                    g[m] = g[n] + weight\n",
        "\n",
        "                # otherwise, check if it's quicker to first visit n, then m\n",
        "                # and if it is, update parent data and g data\n",
        "                # and if the node was in the closed_list, move it to open_list\n",
        "                else:\n",
        "                    if g[m] > g[n] + weight:\n",
        "                        g[m] = g[n] + weight\n",
        "                        parents[m] = n\n",
        "\n",
        "                        if m in closed_list:\n",
        "                            closed_list.remove(m)\n",
        "                            open_list.add(m)\n",
        "\n",
        "            # remove n from the open_list, and add it to closed_list\n",
        "            # because all of his neighbors were inspected\n",
        "            open_list.remove(n)\n",
        "            closed_list.add(n)\n",
        "\n",
        "        print('Path does not exist!')\n",
        "        return None\n",
        "\n",
        "        \n",
        "adjacency_list = {\n",
        "    'A': [('B', 1), ('C', 3), ('D', 7)],\n",
        "    'B': [('D', 5)],\n",
        "    'C': [('D', 12)]\n",
        "}\n",
        "graph1 = Graph(adjacency_list)\n",
        "graph1.a_star_algorithm('A', 'D')"
      ],
      "metadata": {
        "colab": {
          "base_uri": "https://localhost:8080/"
        },
        "id": "7CCxB0Te-pNl",
        "outputId": "863c6b46-ee67-40fd-e471-4fc07c01b8e3"
      },
      "execution_count": 6,
      "outputs": [
        {
          "output_type": "stream",
          "name": "stdout",
          "text": [
            "Path found: ['A', 'B', 'D']\n"
          ]
        },
        {
          "output_type": "execute_result",
          "data": {
            "text/plain": [
              "['A', 'B', 'D']"
            ]
          },
          "metadata": {},
          "execution_count": 6
        }
      ]
    },
    {
      "cell_type": "markdown",
      "source": [
        "# 7. best first search - [https://stackoverflow.com/questions/70694628/find-local-shortest-path-with-greedy-best-first-search-algorithm](https://stackoverflow.com/questions/70694628/find-local-shortest-path-with-greedy-best-first-search-algorithm)\n"
      ],
      "metadata": {
        "id": "1j7qmUz9BjbI"
      }
    },
    {
      "cell_type": "code",
      "execution_count": 7,
      "metadata": {
        "colab": {
          "base_uri": "https://localhost:8080/"
        },
        "id": "4cVLTfKp8uxt",
        "outputId": "81c2d81e-d658-4914-fa48-610f7040ad5e"
      },
      "outputs": [
        {
          "output_type": "stream",
          "name": "stdout",
          "text": [
            "Path: \n",
            "0 1 0 2 \n"
          ]
        }
      ],
      "source": [
        "from queue import PriorityQueue\n",
        "\n",
        "# Filling adjacency matrix with empty arrays\n",
        "vertices = 14\n",
        "graph = [[] for i in range(vertices)]\n",
        "\n",
        "\n",
        "# Function for adding edges to graph\n",
        "def add_edge(x, y, cost):\n",
        "    graph[x].append((y, cost))\n",
        "    graph[y].append((x, cost))\n",
        "\n",
        "\n",
        "# Function For Implementing Best First Search\n",
        "# Gives output path having the lowest cost\n",
        "def best_first_search(source, target, vertices):\n",
        "    visited = [0] * vertices\n",
        "    pq = PriorityQueue()\n",
        "    pq.put((0, source))\n",
        "    print(\"Path: \")\n",
        "    while not pq.empty():\n",
        "        u = pq.get()[1]\n",
        "        # Displaying the path having the lowest cost\n",
        "        print(u, end=\" \")\n",
        "        if u == target:\n",
        "            break\n",
        "\n",
        "        for v, c in graph[u]:\n",
        "            if not visited[v]:\n",
        "                visited[v] = True\n",
        "                pq.put((c, v))\n",
        "    print()\n",
        "\n",
        "\n",
        "if __name__ == '__main__':\n",
        "    # The nodes shown in above example(by alphabets) are\n",
        "    # implemented using integers add_edge(x,y,cost);\n",
        "    add_edge(0, 1, 1)\n",
        "    add_edge(0, 2, 8)\n",
        "    add_edge(1, 2, 12)\n",
        "    add_edge(1, 4, 13)\n",
        "    add_edge(2, 3, 6)\n",
        "    add_edge(4, 3, 3)\n",
        "\n",
        "    source = 0\n",
        "    target = 2\n",
        "    best_first_search(source, target, vertices)"
      ]
    },
    {
      "cell_type": "markdown",
      "source": [
        "# 8. Beam search examples - [https://machinelearningmastery.com/beam-search-decoder-natural-language-processing/](https://machinelearningmastery.com/beam-search-decoder-natural-language-processing/)"
      ],
      "metadata": {
        "id": "EvCvCDt-BrhV"
      }
    },
    {
      "cell_type": "code",
      "source": [
        "from queue import PriorityQueue\n",
        "import copy\n",
        "\n",
        "# Filling adjacency matrix with empty arrays\n",
        "beamWidth = 2\n",
        "vertices = 14\n",
        "graph = [[] for i in range(vertices)]\n",
        "\n",
        "\n",
        "def add_edge(x, y, cost):\n",
        "    graph[x].append((y, cost))\n",
        "    graph[y].append((x, cost))\n",
        "\n",
        "def printt(t):\n",
        "    while not t.empty():\n",
        "        tt = t.get()\n",
        "        print(tt[0], tt[1])\n",
        "\n",
        "def beam_search(source, target, vertices):\n",
        "    visited = [0] * vertices\n",
        "    pq = PriorityQueue()\n",
        "    pq.put((0, source))\n",
        "    visited[source] = True\n",
        "    print(\"Path: \")\n",
        "    while not pq.empty():\n",
        "        u = pq.get()[1]\n",
        "        # Displaying the path having the lowest cost\n",
        "        print(u, end=\"\\n\")\n",
        "        if u == target:\n",
        "            break\n",
        "\n",
        "        wpq = pq\n",
        "        pq = PriorityQueue()\n",
        "\n",
        "        for v, c in graph[u]:\n",
        "            if not visited[v]:\n",
        "                visited[v] = True\n",
        "                wpq.put((c, v))\n",
        "\n",
        "        # choose only beamWidth number of candidates\n",
        "        i = 0\n",
        "        while not wpq.empty() and i < beamWidth:\n",
        "            pq.put(wpq.get())\n",
        "            i += 1\n",
        "    print()\n",
        "\n",
        "\n",
        "if __name__ == '__main__':\n",
        "    add_edge(0, 1, 1)\n",
        "    add_edge(0, 2, 8)\n",
        "    add_edge(1, 2, 12)\n",
        "    add_edge(1, 4, 13)\n",
        "    add_edge(2, 3, 6)\n",
        "    add_edge(4, 3, 3)\n",
        "\n",
        "    source = 0\n",
        "    target = 2\n",
        "    beam_search(source, target, vertices)\n"
      ],
      "metadata": {
        "colab": {
          "base_uri": "https://localhost:8080/"
        },
        "id": "wKaG-k31Bq5N",
        "outputId": "698c353b-fab1-4dd6-9599-0bee96937fdf"
      },
      "execution_count": 8,
      "outputs": [
        {
          "output_type": "stream",
          "name": "stdout",
          "text": [
            "Path: \n",
            "0\n",
            "1\n",
            "2\n",
            "\n"
          ]
        }
      ]
    },
    {
      "cell_type": "markdown",
      "source": [
        "# 9. Depth first search examples"
      ],
      "metadata": {
        "id": "kQAaLJpqDuXu"
      }
    },
    {
      "cell_type": "code",
      "source": [
        "# DFS algorithm\n",
        "def dfs(graph, start, visited=None):\n",
        "    if visited is None:\n",
        "        visited = set()\n",
        "    visited.add(start)\n",
        "\n",
        "    print(start)\n",
        "\n",
        "    for next in graph[start] - visited:\n",
        "        dfs(graph, next, visited)\n",
        "    return visited\n",
        "\n",
        "\n",
        "graph = {'0': set(['1', '2']),\n",
        "         '1': set(['0', '3', '5']),\n",
        "         '2': set(['0','4']),\n",
        "         '3': set(['1']),\n",
        "         '4': set(['2']),\n",
        "         '5': set(['1']),\n",
        "         }\n",
        "\n",
        "dfs(graph, '0')"
      ],
      "metadata": {
        "colab": {
          "base_uri": "https://localhost:8080/"
        },
        "id": "EWfahL-2EG-x",
        "outputId": "8d2ea71f-8b0e-4734-954e-177e3770bb74"
      },
      "execution_count": 9,
      "outputs": [
        {
          "output_type": "stream",
          "name": "stdout",
          "text": [
            "0\n",
            "1\n",
            "3\n",
            "5\n",
            "2\n",
            "4\n"
          ]
        },
        {
          "output_type": "execute_result",
          "data": {
            "text/plain": [
              "{'0', '1', '2', '3', '4', '5'}"
            ]
          },
          "metadata": {},
          "execution_count": 9
        }
      ]
    },
    {
      "cell_type": "markdown",
      "source": [
        "# 10. Depth first search - [https://www.geeksforgeeks.org/depth-first-search-or-dfs-for-a-graph/](https://www.geeksforgeeks.org/depth-first-search-or-dfs-for-a-graph/)\n"
      ],
      "metadata": {
        "id": "9eTUr-1KFa89"
      }
    },
    {
      "cell_type": "code",
      "source": [
        "\n",
        "# Python3 program to print DFS traversal\n",
        "# from a given given graph\n",
        "from collections import defaultdict\n",
        " \n",
        "# This class represents a directed graph using\n",
        "# adjacency list representation\n",
        " \n",
        " \n",
        "class Graph:\n",
        " \n",
        "    # Constructor\n",
        "    def __init__(self):\n",
        " \n",
        "        # default dictionary to store graph\n",
        "        self.graph = defaultdict(list)\n",
        " \n",
        "    # function to add an edge to graph\n",
        "    def addEdge(self, u, v):\n",
        "        self.graph[u].append(v)\n",
        " \n",
        "    # A function used by DFS\n",
        "    def DFSUtil(self, v, visited):\n",
        " \n",
        "        # Mark the current node as visited\n",
        "        # and print it\n",
        "        visited.add(v)\n",
        "        print(v, end=' ')\n",
        " \n",
        "        # Recur for all the vertices\n",
        "        # adjacent to this vertex\n",
        "        for neighbour in self.graph[v]:\n",
        "            if neighbour not in visited:\n",
        "                self.DFSUtil(neighbour, visited)\n",
        " \n",
        "    # The function to do DFS traversal. It uses\n",
        "    # recursive DFSUtil()\n",
        "    def DFS(self, v):\n",
        " \n",
        "        # Create a set to store visited vertices\n",
        "        visited = set()\n",
        " \n",
        "        # Call the recursive helper function\n",
        "        # to print DFS traversal\n",
        "        self.DFSUtil(v, visited)\n",
        " \n",
        "# Driver code\n",
        " \n",
        " \n",
        "# Create a graph given\n",
        "# in the above diagram\n",
        "g = Graph()\n",
        "g.addEdge(0, 1)\n",
        "g.addEdge(0, 2)\n",
        "g.addEdge(1, 2)\n",
        "g.addEdge(2, 0)\n",
        "g.addEdge(2, 3)\n",
        "g.addEdge(3, 3)\n",
        " \n",
        "print(\"Following is DFS from (starting from vertex 2)\")\n",
        "g.DFS(2)"
      ],
      "metadata": {
        "colab": {
          "base_uri": "https://localhost:8080/"
        },
        "id": "7LQt35BHFa2N",
        "outputId": "3d0449d7-a23d-4625-d5d7-f6e5ef503d5f"
      },
      "execution_count": 10,
      "outputs": [
        {
          "output_type": "stream",
          "name": "stdout",
          "text": [
            "Following is DFS from (starting from vertex 2)\n",
            "2 0 1 3 "
          ]
        }
      ]
    }
  ]
}